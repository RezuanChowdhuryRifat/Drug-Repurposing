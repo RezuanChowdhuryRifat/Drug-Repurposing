{
  "cells": [
    {
      "cell_type": "markdown",
      "metadata": {
        "id": "view-in-github",
        "colab_type": "text"
      },
      "source": [
        "<a href=\"https://colab.research.google.com/github/RezuanChowdhuryRifat/Drug-Repurposing/blob/main/preprocess.ipynb\" target=\"_parent\"><img src=\"https://colab.research.google.com/assets/colab-badge.svg\" alt=\"Open In Colab\"/></a>"
      ]
    },
    {
      "cell_type": "markdown",
      "metadata": {
        "id": "KNRaKMuPB50f"
      },
      "source": [
        "# Preprocessing"
      ]
    },
    {
      "cell_type": "code",
      "execution_count": 1,
      "metadata": {
        "id": "aBJh3G08B50s"
      },
      "outputs": [],
      "source": [
        "import numpy as np\n",
        "import pandas as pd\n",
        "import pickle\n",
        "import matplotlib as plt\n",
        "from itertools import combinations\n",
        "import re"
      ]
    },
    {
      "cell_type": "code",
      "execution_count": 2,
      "metadata": {
        "colab": {
          "base_uri": "https://localhost:8080/"
        },
        "id": "F1Ky6HQ9B50y",
        "outputId": "aa99d953-f566-4af9-8846-a916e58378fa"
      },
      "outputs": [
        {
          "output_type": "stream",
          "name": "stdout",
          "text": [
            "Mounted at /content/drive\n"
          ]
        }
      ],
      "source": [
        "from google.colab import drive\n",
        "drive.mount('/content/drive')"
      ]
    },
    {
      "cell_type": "markdown",
      "metadata": {
        "id": "OExg-WJ-B500"
      },
      "source": [
        "Create a code mapping dictionary"
      ]
    },
    {
      "cell_type": "code",
      "execution_count": 3,
      "metadata": {
        "id": "Js-yJNKdB501"
      },
      "outputs": [],
      "source": [
        "codes={}"
      ]
    },
    {
      "cell_type": "markdown",
      "metadata": {
        "id": "n0qpEgwoB502"
      },
      "source": [
        "## Drug's target"
      ]
    },
    {
      "cell_type": "markdown",
      "metadata": {
        "id": "_8Ws-qNKB503"
      },
      "source": [
        "Load drug's target (from CTDbase)"
      ]
    },
    {
      "cell_type": "code",
      "source": [
        "#chemical_gene_df = pd.read_csv(\"/content/drive/MyDrive/Drug Repurposing/CTD_chem_gene_ixns.csv\",index_col =\"GeneID\")"
      ],
      "metadata": {
        "id": "k0ZkO1XBHf0I"
      },
      "execution_count": null,
      "outputs": []
    },
    {
      "cell_type": "markdown",
      "source": [
        "Load gene's (from CTDbase)"
      ],
      "metadata": {
        "id": "kx7xBiVQIC7s"
      }
    },
    {
      "cell_type": "code",
      "source": [
        "gene_ids_df = pd.read_csv('/content/drive/MyDrive/Drug Repurposing/CTD_D000086382_genes_20240207180602.csv')\n",
        "#desired_gene_ids = gene_ids_df['Gene ID'].tolist()"
      ],
      "metadata": {
        "id": "ySR-V2WHHuX_"
      },
      "execution_count": 4,
      "outputs": []
    },
    {
      "cell_type": "code",
      "source": [
        "# desired_rows = chemical_gene_df.loc[chemical_gene_df.index.isin(desired_gene_ids)]\n",
        "# output_filename = 'extracted_data.csv'\n",
        "\n",
        "# desired_rows.to_csv(output_filename)\n",
        "# extracted_df = desired_rows.sort_values(by='GeneID')\n",
        "# extracted_df = extracted_df[extracted_df['OrganismID'] == 9606.0]\n",
        "# extracted_df.to_csv('/content/drive/MyDrive/Drug Repurposing/extracted_file.csv')"
      ],
      "metadata": {
        "id": "sDDzK4lVHwGH"
      },
      "execution_count": null,
      "outputs": []
    },
    {
      "cell_type": "code",
      "execution_count": 5,
      "metadata": {
        "id": "i4TU46neB505"
      },
      "outputs": [],
      "source": [
        "gene_drug=pd.read_csv('/content/drive/MyDrive/Drug Repurposing/extracted_file.csv')"
      ]
    },
    {
      "cell_type": "code",
      "execution_count": 6,
      "metadata": {
        "colab": {
          "base_uri": "https://localhost:8080/",
          "height": 486
        },
        "id": "dBaHwgA6B506",
        "outputId": "60e64df7-5b2c-4588-d66d-d2a0fcf8544c"
      },
      "outputs": [
        {
          "output_type": "execute_result",
          "data": {
            "text/plain": [
              "   GeneID            ChemicalName ChemicalID       CasRN GeneSymbol GeneForms  \\\n",
              "0       1            dorsomorphin    C516138         NaN       A1BG      mRNA   \n",
              "1       1            Cyclosporine    D016572  59865-13-3       A1BG      mRNA   \n",
              "2       1            Cyclosporine    D016572  59865-13-3       A1BG      mRNA   \n",
              "3       1                 Mercury    D008628   7439-97-6       A1BG   protein   \n",
              "4       1  Phenylmercuric Acetate    D010662     62-38-4       A1BG      mRNA   \n",
              "\n",
              "       Organism  OrganismID  \\\n",
              "0  Homo sapiens      9606.0   \n",
              "1  Homo sapiens      9606.0   \n",
              "2  Homo sapiens      9606.0   \n",
              "3  Homo sapiens      9606.0   \n",
              "4  Homo sapiens      9606.0   \n",
              "\n",
              "                                         Interaction  \\\n",
              "0  [NOG protein co-treated with Phenylmercuric Ac...   \n",
              "1  Cyclosporine results in decreased expression o...   \n",
              "2  Cyclosporine results in increased expression o...   \n",
              "3     Mercury affects the expression of A1BG protein   \n",
              "4  Phenylmercuric Acetate results in decreased ex...   \n",
              "\n",
              "                         InteractionActions PubMedIDs  \n",
              "0  affects^cotreatment|decreases^expression  27188386  \n",
              "1                      decreases^expression  25562108  \n",
              "2                      increases^expression  27989131  \n",
              "3                        affects^expression  22030286  \n",
              "4                      decreases^expression  26272509  "
            ],
            "text/html": [
              "\n",
              "  <div id=\"df-b63b9fc1-f5ce-4683-bfa5-da86ce157205\" class=\"colab-df-container\">\n",
              "    <div>\n",
              "<style scoped>\n",
              "    .dataframe tbody tr th:only-of-type {\n",
              "        vertical-align: middle;\n",
              "    }\n",
              "\n",
              "    .dataframe tbody tr th {\n",
              "        vertical-align: top;\n",
              "    }\n",
              "\n",
              "    .dataframe thead th {\n",
              "        text-align: right;\n",
              "    }\n",
              "</style>\n",
              "<table border=\"1\" class=\"dataframe\">\n",
              "  <thead>\n",
              "    <tr style=\"text-align: right;\">\n",
              "      <th></th>\n",
              "      <th>GeneID</th>\n",
              "      <th>ChemicalName</th>\n",
              "      <th>ChemicalID</th>\n",
              "      <th>CasRN</th>\n",
              "      <th>GeneSymbol</th>\n",
              "      <th>GeneForms</th>\n",
              "      <th>Organism</th>\n",
              "      <th>OrganismID</th>\n",
              "      <th>Interaction</th>\n",
              "      <th>InteractionActions</th>\n",
              "      <th>PubMedIDs</th>\n",
              "    </tr>\n",
              "  </thead>\n",
              "  <tbody>\n",
              "    <tr>\n",
              "      <th>0</th>\n",
              "      <td>1</td>\n",
              "      <td>dorsomorphin</td>\n",
              "      <td>C516138</td>\n",
              "      <td>NaN</td>\n",
              "      <td>A1BG</td>\n",
              "      <td>mRNA</td>\n",
              "      <td>Homo sapiens</td>\n",
              "      <td>9606.0</td>\n",
              "      <td>[NOG protein co-treated with Phenylmercuric Ac...</td>\n",
              "      <td>affects^cotreatment|decreases^expression</td>\n",
              "      <td>27188386</td>\n",
              "    </tr>\n",
              "    <tr>\n",
              "      <th>1</th>\n",
              "      <td>1</td>\n",
              "      <td>Cyclosporine</td>\n",
              "      <td>D016572</td>\n",
              "      <td>59865-13-3</td>\n",
              "      <td>A1BG</td>\n",
              "      <td>mRNA</td>\n",
              "      <td>Homo sapiens</td>\n",
              "      <td>9606.0</td>\n",
              "      <td>Cyclosporine results in decreased expression o...</td>\n",
              "      <td>decreases^expression</td>\n",
              "      <td>25562108</td>\n",
              "    </tr>\n",
              "    <tr>\n",
              "      <th>2</th>\n",
              "      <td>1</td>\n",
              "      <td>Cyclosporine</td>\n",
              "      <td>D016572</td>\n",
              "      <td>59865-13-3</td>\n",
              "      <td>A1BG</td>\n",
              "      <td>mRNA</td>\n",
              "      <td>Homo sapiens</td>\n",
              "      <td>9606.0</td>\n",
              "      <td>Cyclosporine results in increased expression o...</td>\n",
              "      <td>increases^expression</td>\n",
              "      <td>27989131</td>\n",
              "    </tr>\n",
              "    <tr>\n",
              "      <th>3</th>\n",
              "      <td>1</td>\n",
              "      <td>Mercury</td>\n",
              "      <td>D008628</td>\n",
              "      <td>7439-97-6</td>\n",
              "      <td>A1BG</td>\n",
              "      <td>protein</td>\n",
              "      <td>Homo sapiens</td>\n",
              "      <td>9606.0</td>\n",
              "      <td>Mercury affects the expression of A1BG protein</td>\n",
              "      <td>affects^expression</td>\n",
              "      <td>22030286</td>\n",
              "    </tr>\n",
              "    <tr>\n",
              "      <th>4</th>\n",
              "      <td>1</td>\n",
              "      <td>Phenylmercuric Acetate</td>\n",
              "      <td>D010662</td>\n",
              "      <td>62-38-4</td>\n",
              "      <td>A1BG</td>\n",
              "      <td>mRNA</td>\n",
              "      <td>Homo sapiens</td>\n",
              "      <td>9606.0</td>\n",
              "      <td>Phenylmercuric Acetate results in decreased ex...</td>\n",
              "      <td>decreases^expression</td>\n",
              "      <td>26272509</td>\n",
              "    </tr>\n",
              "  </tbody>\n",
              "</table>\n",
              "</div>\n",
              "    <div class=\"colab-df-buttons\">\n",
              "\n",
              "  <div class=\"colab-df-container\">\n",
              "    <button class=\"colab-df-convert\" onclick=\"convertToInteractive('df-b63b9fc1-f5ce-4683-bfa5-da86ce157205')\"\n",
              "            title=\"Convert this dataframe to an interactive table.\"\n",
              "            style=\"display:none;\">\n",
              "\n",
              "  <svg xmlns=\"http://www.w3.org/2000/svg\" height=\"24px\" viewBox=\"0 -960 960 960\">\n",
              "    <path d=\"M120-120v-720h720v720H120Zm60-500h600v-160H180v160Zm220 220h160v-160H400v160Zm0 220h160v-160H400v160ZM180-400h160v-160H180v160Zm440 0h160v-160H620v160ZM180-180h160v-160H180v160Zm440 0h160v-160H620v160Z\"/>\n",
              "  </svg>\n",
              "    </button>\n",
              "\n",
              "  <style>\n",
              "    .colab-df-container {\n",
              "      display:flex;\n",
              "      gap: 12px;\n",
              "    }\n",
              "\n",
              "    .colab-df-convert {\n",
              "      background-color: #E8F0FE;\n",
              "      border: none;\n",
              "      border-radius: 50%;\n",
              "      cursor: pointer;\n",
              "      display: none;\n",
              "      fill: #1967D2;\n",
              "      height: 32px;\n",
              "      padding: 0 0 0 0;\n",
              "      width: 32px;\n",
              "    }\n",
              "\n",
              "    .colab-df-convert:hover {\n",
              "      background-color: #E2EBFA;\n",
              "      box-shadow: 0px 1px 2px rgba(60, 64, 67, 0.3), 0px 1px 3px 1px rgba(60, 64, 67, 0.15);\n",
              "      fill: #174EA6;\n",
              "    }\n",
              "\n",
              "    .colab-df-buttons div {\n",
              "      margin-bottom: 4px;\n",
              "    }\n",
              "\n",
              "    [theme=dark] .colab-df-convert {\n",
              "      background-color: #3B4455;\n",
              "      fill: #D2E3FC;\n",
              "    }\n",
              "\n",
              "    [theme=dark] .colab-df-convert:hover {\n",
              "      background-color: #434B5C;\n",
              "      box-shadow: 0px 1px 3px 1px rgba(0, 0, 0, 0.15);\n",
              "      filter: drop-shadow(0px 1px 2px rgba(0, 0, 0, 0.3));\n",
              "      fill: #FFFFFF;\n",
              "    }\n",
              "  </style>\n",
              "\n",
              "    <script>\n",
              "      const buttonEl =\n",
              "        document.querySelector('#df-b63b9fc1-f5ce-4683-bfa5-da86ce157205 button.colab-df-convert');\n",
              "      buttonEl.style.display =\n",
              "        google.colab.kernel.accessAllowed ? 'block' : 'none';\n",
              "\n",
              "      async function convertToInteractive(key) {\n",
              "        const element = document.querySelector('#df-b63b9fc1-f5ce-4683-bfa5-da86ce157205');\n",
              "        const dataTable =\n",
              "          await google.colab.kernel.invokeFunction('convertToInteractive',\n",
              "                                                    [key], {});\n",
              "        if (!dataTable) return;\n",
              "\n",
              "        const docLinkHtml = 'Like what you see? Visit the ' +\n",
              "          '<a target=\"_blank\" href=https://colab.research.google.com/notebooks/data_table.ipynb>data table notebook</a>'\n",
              "          + ' to learn more about interactive tables.';\n",
              "        element.innerHTML = '';\n",
              "        dataTable['output_type'] = 'display_data';\n",
              "        await google.colab.output.renderOutput(dataTable, element);\n",
              "        const docLink = document.createElement('div');\n",
              "        docLink.innerHTML = docLinkHtml;\n",
              "        element.appendChild(docLink);\n",
              "      }\n",
              "    </script>\n",
              "  </div>\n",
              "\n",
              "\n",
              "<div id=\"df-de022397-b834-4b56-9c90-c75cf08c3000\">\n",
              "  <button class=\"colab-df-quickchart\" onclick=\"quickchart('df-de022397-b834-4b56-9c90-c75cf08c3000')\"\n",
              "            title=\"Suggest charts\"\n",
              "            style=\"display:none;\">\n",
              "\n",
              "<svg xmlns=\"http://www.w3.org/2000/svg\" height=\"24px\"viewBox=\"0 0 24 24\"\n",
              "     width=\"24px\">\n",
              "    <g>\n",
              "        <path d=\"M19 3H5c-1.1 0-2 .9-2 2v14c0 1.1.9 2 2 2h14c1.1 0 2-.9 2-2V5c0-1.1-.9-2-2-2zM9 17H7v-7h2v7zm4 0h-2V7h2v10zm4 0h-2v-4h2v4z\"/>\n",
              "    </g>\n",
              "</svg>\n",
              "  </button>\n",
              "\n",
              "<style>\n",
              "  .colab-df-quickchart {\n",
              "      --bg-color: #E8F0FE;\n",
              "      --fill-color: #1967D2;\n",
              "      --hover-bg-color: #E2EBFA;\n",
              "      --hover-fill-color: #174EA6;\n",
              "      --disabled-fill-color: #AAA;\n",
              "      --disabled-bg-color: #DDD;\n",
              "  }\n",
              "\n",
              "  [theme=dark] .colab-df-quickchart {\n",
              "      --bg-color: #3B4455;\n",
              "      --fill-color: #D2E3FC;\n",
              "      --hover-bg-color: #434B5C;\n",
              "      --hover-fill-color: #FFFFFF;\n",
              "      --disabled-bg-color: #3B4455;\n",
              "      --disabled-fill-color: #666;\n",
              "  }\n",
              "\n",
              "  .colab-df-quickchart {\n",
              "    background-color: var(--bg-color);\n",
              "    border: none;\n",
              "    border-radius: 50%;\n",
              "    cursor: pointer;\n",
              "    display: none;\n",
              "    fill: var(--fill-color);\n",
              "    height: 32px;\n",
              "    padding: 0;\n",
              "    width: 32px;\n",
              "  }\n",
              "\n",
              "  .colab-df-quickchart:hover {\n",
              "    background-color: var(--hover-bg-color);\n",
              "    box-shadow: 0 1px 2px rgba(60, 64, 67, 0.3), 0 1px 3px 1px rgba(60, 64, 67, 0.15);\n",
              "    fill: var(--button-hover-fill-color);\n",
              "  }\n",
              "\n",
              "  .colab-df-quickchart-complete:disabled,\n",
              "  .colab-df-quickchart-complete:disabled:hover {\n",
              "    background-color: var(--disabled-bg-color);\n",
              "    fill: var(--disabled-fill-color);\n",
              "    box-shadow: none;\n",
              "  }\n",
              "\n",
              "  .colab-df-spinner {\n",
              "    border: 2px solid var(--fill-color);\n",
              "    border-color: transparent;\n",
              "    border-bottom-color: var(--fill-color);\n",
              "    animation:\n",
              "      spin 1s steps(1) infinite;\n",
              "  }\n",
              "\n",
              "  @keyframes spin {\n",
              "    0% {\n",
              "      border-color: transparent;\n",
              "      border-bottom-color: var(--fill-color);\n",
              "      border-left-color: var(--fill-color);\n",
              "    }\n",
              "    20% {\n",
              "      border-color: transparent;\n",
              "      border-left-color: var(--fill-color);\n",
              "      border-top-color: var(--fill-color);\n",
              "    }\n",
              "    30% {\n",
              "      border-color: transparent;\n",
              "      border-left-color: var(--fill-color);\n",
              "      border-top-color: var(--fill-color);\n",
              "      border-right-color: var(--fill-color);\n",
              "    }\n",
              "    40% {\n",
              "      border-color: transparent;\n",
              "      border-right-color: var(--fill-color);\n",
              "      border-top-color: var(--fill-color);\n",
              "    }\n",
              "    60% {\n",
              "      border-color: transparent;\n",
              "      border-right-color: var(--fill-color);\n",
              "    }\n",
              "    80% {\n",
              "      border-color: transparent;\n",
              "      border-right-color: var(--fill-color);\n",
              "      border-bottom-color: var(--fill-color);\n",
              "    }\n",
              "    90% {\n",
              "      border-color: transparent;\n",
              "      border-bottom-color: var(--fill-color);\n",
              "    }\n",
              "  }\n",
              "</style>\n",
              "\n",
              "  <script>\n",
              "    async function quickchart(key) {\n",
              "      const quickchartButtonEl =\n",
              "        document.querySelector('#' + key + ' button');\n",
              "      quickchartButtonEl.disabled = true;  // To prevent multiple clicks.\n",
              "      quickchartButtonEl.classList.add('colab-df-spinner');\n",
              "      try {\n",
              "        const charts = await google.colab.kernel.invokeFunction(\n",
              "            'suggestCharts', [key], {});\n",
              "      } catch (error) {\n",
              "        console.error('Error during call to suggestCharts:', error);\n",
              "      }\n",
              "      quickchartButtonEl.classList.remove('colab-df-spinner');\n",
              "      quickchartButtonEl.classList.add('colab-df-quickchart-complete');\n",
              "    }\n",
              "    (() => {\n",
              "      let quickchartButtonEl =\n",
              "        document.querySelector('#df-de022397-b834-4b56-9c90-c75cf08c3000 button');\n",
              "      quickchartButtonEl.style.display =\n",
              "        google.colab.kernel.accessAllowed ? 'block' : 'none';\n",
              "    })();\n",
              "  </script>\n",
              "</div>\n",
              "\n",
              "    </div>\n",
              "  </div>\n"
            ],
            "application/vnd.google.colaboratory.intrinsic+json": {
              "type": "dataframe",
              "variable_name": "gene_drug"
            }
          },
          "metadata": {},
          "execution_count": 6
        }
      ],
      "source": [
        "gene_drug.head()"
      ]
    },
    {
      "cell_type": "markdown",
      "metadata": {
        "id": "FLp6eILMB509"
      },
      "source": [
        "Save the drug name and MeSH ID mapping for later use"
      ]
    },
    {
      "cell_type": "code",
      "execution_count": 7,
      "metadata": {
        "id": "LxA3PdLpB50-"
      },
      "outputs": [],
      "source": [
        "codes['drugname2mesh']={row[0].upper():row[1] for idx, row in gene_drug[['ChemicalName','ChemicalID']].drop_duplicates().iterrows()}\n",
        "codes['mesh2drugname']={row[0].upper():row[1] for idx, row in gene_drug[['ChemicalID','ChemicalName']].drop_duplicates().iterrows()}"
      ]
    },
    {
      "cell_type": "code",
      "execution_count": 8,
      "metadata": {
        "id": "mGMSN2VeB50_"
      },
      "outputs": [],
      "source": [
        "codes['gene_symbol2id'] = {row[0].upper(): row[1] for _, row in gene_drug[['GeneSymbol', 'GeneID']].drop_duplicates().iterrows()}"
      ]
    },
    {
      "cell_type": "code",
      "execution_count": 9,
      "metadata": {
        "id": "HxzpswCpB50_"
      },
      "outputs": [],
      "source": [
        "gene_drug=gene_drug[['GeneID', 'ChemicalName']].drop_duplicates()\n",
        "gene_drug['ChemicalName']=gene_drug['ChemicalName'].apply(lambda x: x.upper() if type(x)==str else x)\n",
        "\n",
        "gene_drug['GeneID']=gene_drug['GeneID'].apply(lambda x: 'gene_'+str(x))\n",
        "gene_drug['ChemicalName']=gene_drug['ChemicalName'].apply(lambda x: 'drug_'+x)\n",
        "\n",
        "gene_drug.drop_duplicates(inplace=True)\n"
      ]
    },
    {
      "cell_type": "markdown",
      "metadata": {
        "id": "OnfeJKWzB51A"
      },
      "source": [
        "## Pathways"
      ]
    },
    {
      "cell_type": "markdown",
      "metadata": {
        "id": "-tWkBQ5lB51B"
      },
      "source": [
        "Load pathways from CTDbase"
      ]
    },
    {
      "cell_type": "code",
      "execution_count": 10,
      "metadata": {
        "id": "b5GD7fo8B51C"
      },
      "outputs": [],
      "source": [
        "pathways=pd.read_csv('/content/drive/MyDrive/Drug Repurposing/CTD_pathways.tsv',sep='\\t')\n",
        "path_sim=pd.concat([pd.DataFrame(list(combinations(pathway,2,)),columns=['gene1','gene2']) for pathway in pathways['Association inferred via'].apply(lambda x: x.split('|') if '|' in x else None).dropna().values]).drop_duplicates()"
      ]
    },
    {
      "cell_type": "markdown",
      "metadata": {
        "id": "fMXKN-bdB51C"
      },
      "source": [
        "Load pathways from KEGG. The files were preprocessed as a pairwise gene"
      ]
    },
    {
      "cell_type": "code",
      "execution_count": 11,
      "metadata": {
        "id": "yivAyfQ4B51D"
      },
      "outputs": [],
      "source": [
        "path_sim_kegg=pd.read_csv('/content/drive/MyDrive/Drug Repurposing/Kegg__pathways_prepocessed.txt', header=None,sep='\\t')\n",
        "path_sim_kegg.columns=['gene1', 'gene2', 'positive']\n",
        "path_sim_kegg.replace('PP', 1, inplace=True)\n",
        "path_sim_kegg.replace('PN', 0, inplace=True)\n",
        "\n",
        "path_sim_kegg=path_sim_kegg.loc[path_sim_kegg['positive']==1, ['gene1','gene2']]\n",
        "\n",
        "gene_name =pd.read_excel('/content/drive/MyDrive/Drug Repurposing/All_Human_Protein_Coding_Genes_3_27_2020.xlsx')\n",
        "gene_dict= {row['Gene Id']:row['Gene Symbol'] for _, row in gene_name[['Gene Id','Gene Symbol']].iterrows()}"
      ]
    },
    {
      "cell_type": "code",
      "execution_count": 12,
      "metadata": {
        "colab": {
          "base_uri": "https://localhost:8080/",
          "height": 423
        },
        "id": "Q5sBNzDJB51E",
        "outputId": "b4d645fc-f599-4994-93ba-3830e5e6e37d"
      },
      "outputs": [
        {
          "output_type": "execute_result",
          "data": {
            "text/plain": [
              "       gene1   gene2\n",
              "0      10725    7124\n",
              "1      10725    1437\n",
              "2       4772    7124\n",
              "3       4772    1437\n",
              "4       4773    7124\n",
              "...      ...     ...\n",
              "29503   8733   84720\n",
              "29504   8733   80055\n",
              "29505  23556   55650\n",
              "29506   2822  284098\n",
              "29507  55650    9488\n",
              "\n",
              "[14772 rows x 2 columns]"
            ],
            "text/html": [
              "\n",
              "  <div id=\"df-a970a4b1-9801-40fc-9e0e-d323dfad56ab\" class=\"colab-df-container\">\n",
              "    <div>\n",
              "<style scoped>\n",
              "    .dataframe tbody tr th:only-of-type {\n",
              "        vertical-align: middle;\n",
              "    }\n",
              "\n",
              "    .dataframe tbody tr th {\n",
              "        vertical-align: top;\n",
              "    }\n",
              "\n",
              "    .dataframe thead th {\n",
              "        text-align: right;\n",
              "    }\n",
              "</style>\n",
              "<table border=\"1\" class=\"dataframe\">\n",
              "  <thead>\n",
              "    <tr style=\"text-align: right;\">\n",
              "      <th></th>\n",
              "      <th>gene1</th>\n",
              "      <th>gene2</th>\n",
              "    </tr>\n",
              "  </thead>\n",
              "  <tbody>\n",
              "    <tr>\n",
              "      <th>0</th>\n",
              "      <td>10725</td>\n",
              "      <td>7124</td>\n",
              "    </tr>\n",
              "    <tr>\n",
              "      <th>1</th>\n",
              "      <td>10725</td>\n",
              "      <td>1437</td>\n",
              "    </tr>\n",
              "    <tr>\n",
              "      <th>2</th>\n",
              "      <td>4772</td>\n",
              "      <td>7124</td>\n",
              "    </tr>\n",
              "    <tr>\n",
              "      <th>3</th>\n",
              "      <td>4772</td>\n",
              "      <td>1437</td>\n",
              "    </tr>\n",
              "    <tr>\n",
              "      <th>4</th>\n",
              "      <td>4773</td>\n",
              "      <td>7124</td>\n",
              "    </tr>\n",
              "    <tr>\n",
              "      <th>...</th>\n",
              "      <td>...</td>\n",
              "      <td>...</td>\n",
              "    </tr>\n",
              "    <tr>\n",
              "      <th>29503</th>\n",
              "      <td>8733</td>\n",
              "      <td>84720</td>\n",
              "    </tr>\n",
              "    <tr>\n",
              "      <th>29504</th>\n",
              "      <td>8733</td>\n",
              "      <td>80055</td>\n",
              "    </tr>\n",
              "    <tr>\n",
              "      <th>29505</th>\n",
              "      <td>23556</td>\n",
              "      <td>55650</td>\n",
              "    </tr>\n",
              "    <tr>\n",
              "      <th>29506</th>\n",
              "      <td>2822</td>\n",
              "      <td>284098</td>\n",
              "    </tr>\n",
              "    <tr>\n",
              "      <th>29507</th>\n",
              "      <td>55650</td>\n",
              "      <td>9488</td>\n",
              "    </tr>\n",
              "  </tbody>\n",
              "</table>\n",
              "<p>14772 rows × 2 columns</p>\n",
              "</div>\n",
              "    <div class=\"colab-df-buttons\">\n",
              "\n",
              "  <div class=\"colab-df-container\">\n",
              "    <button class=\"colab-df-convert\" onclick=\"convertToInteractive('df-a970a4b1-9801-40fc-9e0e-d323dfad56ab')\"\n",
              "            title=\"Convert this dataframe to an interactive table.\"\n",
              "            style=\"display:none;\">\n",
              "\n",
              "  <svg xmlns=\"http://www.w3.org/2000/svg\" height=\"24px\" viewBox=\"0 -960 960 960\">\n",
              "    <path d=\"M120-120v-720h720v720H120Zm60-500h600v-160H180v160Zm220 220h160v-160H400v160Zm0 220h160v-160H400v160ZM180-400h160v-160H180v160Zm440 0h160v-160H620v160ZM180-180h160v-160H180v160Zm440 0h160v-160H620v160Z\"/>\n",
              "  </svg>\n",
              "    </button>\n",
              "\n",
              "  <style>\n",
              "    .colab-df-container {\n",
              "      display:flex;\n",
              "      gap: 12px;\n",
              "    }\n",
              "\n",
              "    .colab-df-convert {\n",
              "      background-color: #E8F0FE;\n",
              "      border: none;\n",
              "      border-radius: 50%;\n",
              "      cursor: pointer;\n",
              "      display: none;\n",
              "      fill: #1967D2;\n",
              "      height: 32px;\n",
              "      padding: 0 0 0 0;\n",
              "      width: 32px;\n",
              "    }\n",
              "\n",
              "    .colab-df-convert:hover {\n",
              "      background-color: #E2EBFA;\n",
              "      box-shadow: 0px 1px 2px rgba(60, 64, 67, 0.3), 0px 1px 3px 1px rgba(60, 64, 67, 0.15);\n",
              "      fill: #174EA6;\n",
              "    }\n",
              "\n",
              "    .colab-df-buttons div {\n",
              "      margin-bottom: 4px;\n",
              "    }\n",
              "\n",
              "    [theme=dark] .colab-df-convert {\n",
              "      background-color: #3B4455;\n",
              "      fill: #D2E3FC;\n",
              "    }\n",
              "\n",
              "    [theme=dark] .colab-df-convert:hover {\n",
              "      background-color: #434B5C;\n",
              "      box-shadow: 0px 1px 3px 1px rgba(0, 0, 0, 0.15);\n",
              "      filter: drop-shadow(0px 1px 2px rgba(0, 0, 0, 0.3));\n",
              "      fill: #FFFFFF;\n",
              "    }\n",
              "  </style>\n",
              "\n",
              "    <script>\n",
              "      const buttonEl =\n",
              "        document.querySelector('#df-a970a4b1-9801-40fc-9e0e-d323dfad56ab button.colab-df-convert');\n",
              "      buttonEl.style.display =\n",
              "        google.colab.kernel.accessAllowed ? 'block' : 'none';\n",
              "\n",
              "      async function convertToInteractive(key) {\n",
              "        const element = document.querySelector('#df-a970a4b1-9801-40fc-9e0e-d323dfad56ab');\n",
              "        const dataTable =\n",
              "          await google.colab.kernel.invokeFunction('convertToInteractive',\n",
              "                                                    [key], {});\n",
              "        if (!dataTable) return;\n",
              "\n",
              "        const docLinkHtml = 'Like what you see? Visit the ' +\n",
              "          '<a target=\"_blank\" href=https://colab.research.google.com/notebooks/data_table.ipynb>data table notebook</a>'\n",
              "          + ' to learn more about interactive tables.';\n",
              "        element.innerHTML = '';\n",
              "        dataTable['output_type'] = 'display_data';\n",
              "        await google.colab.output.renderOutput(dataTable, element);\n",
              "        const docLink = document.createElement('div');\n",
              "        docLink.innerHTML = docLinkHtml;\n",
              "        element.appendChild(docLink);\n",
              "      }\n",
              "    </script>\n",
              "  </div>\n",
              "\n",
              "\n",
              "<div id=\"df-09e04387-d316-4547-a082-7429a20d1411\">\n",
              "  <button class=\"colab-df-quickchart\" onclick=\"quickchart('df-09e04387-d316-4547-a082-7429a20d1411')\"\n",
              "            title=\"Suggest charts\"\n",
              "            style=\"display:none;\">\n",
              "\n",
              "<svg xmlns=\"http://www.w3.org/2000/svg\" height=\"24px\"viewBox=\"0 0 24 24\"\n",
              "     width=\"24px\">\n",
              "    <g>\n",
              "        <path d=\"M19 3H5c-1.1 0-2 .9-2 2v14c0 1.1.9 2 2 2h14c1.1 0 2-.9 2-2V5c0-1.1-.9-2-2-2zM9 17H7v-7h2v7zm4 0h-2V7h2v10zm4 0h-2v-4h2v4z\"/>\n",
              "    </g>\n",
              "</svg>\n",
              "  </button>\n",
              "\n",
              "<style>\n",
              "  .colab-df-quickchart {\n",
              "      --bg-color: #E8F0FE;\n",
              "      --fill-color: #1967D2;\n",
              "      --hover-bg-color: #E2EBFA;\n",
              "      --hover-fill-color: #174EA6;\n",
              "      --disabled-fill-color: #AAA;\n",
              "      --disabled-bg-color: #DDD;\n",
              "  }\n",
              "\n",
              "  [theme=dark] .colab-df-quickchart {\n",
              "      --bg-color: #3B4455;\n",
              "      --fill-color: #D2E3FC;\n",
              "      --hover-bg-color: #434B5C;\n",
              "      --hover-fill-color: #FFFFFF;\n",
              "      --disabled-bg-color: #3B4455;\n",
              "      --disabled-fill-color: #666;\n",
              "  }\n",
              "\n",
              "  .colab-df-quickchart {\n",
              "    background-color: var(--bg-color);\n",
              "    border: none;\n",
              "    border-radius: 50%;\n",
              "    cursor: pointer;\n",
              "    display: none;\n",
              "    fill: var(--fill-color);\n",
              "    height: 32px;\n",
              "    padding: 0;\n",
              "    width: 32px;\n",
              "  }\n",
              "\n",
              "  .colab-df-quickchart:hover {\n",
              "    background-color: var(--hover-bg-color);\n",
              "    box-shadow: 0 1px 2px rgba(60, 64, 67, 0.3), 0 1px 3px 1px rgba(60, 64, 67, 0.15);\n",
              "    fill: var(--button-hover-fill-color);\n",
              "  }\n",
              "\n",
              "  .colab-df-quickchart-complete:disabled,\n",
              "  .colab-df-quickchart-complete:disabled:hover {\n",
              "    background-color: var(--disabled-bg-color);\n",
              "    fill: var(--disabled-fill-color);\n",
              "    box-shadow: none;\n",
              "  }\n",
              "\n",
              "  .colab-df-spinner {\n",
              "    border: 2px solid var(--fill-color);\n",
              "    border-color: transparent;\n",
              "    border-bottom-color: var(--fill-color);\n",
              "    animation:\n",
              "      spin 1s steps(1) infinite;\n",
              "  }\n",
              "\n",
              "  @keyframes spin {\n",
              "    0% {\n",
              "      border-color: transparent;\n",
              "      border-bottom-color: var(--fill-color);\n",
              "      border-left-color: var(--fill-color);\n",
              "    }\n",
              "    20% {\n",
              "      border-color: transparent;\n",
              "      border-left-color: var(--fill-color);\n",
              "      border-top-color: var(--fill-color);\n",
              "    }\n",
              "    30% {\n",
              "      border-color: transparent;\n",
              "      border-left-color: var(--fill-color);\n",
              "      border-top-color: var(--fill-color);\n",
              "      border-right-color: var(--fill-color);\n",
              "    }\n",
              "    40% {\n",
              "      border-color: transparent;\n",
              "      border-right-color: var(--fill-color);\n",
              "      border-top-color: var(--fill-color);\n",
              "    }\n",
              "    60% {\n",
              "      border-color: transparent;\n",
              "      border-right-color: var(--fill-color);\n",
              "    }\n",
              "    80% {\n",
              "      border-color: transparent;\n",
              "      border-right-color: var(--fill-color);\n",
              "      border-bottom-color: var(--fill-color);\n",
              "    }\n",
              "    90% {\n",
              "      border-color: transparent;\n",
              "      border-bottom-color: var(--fill-color);\n",
              "    }\n",
              "  }\n",
              "</style>\n",
              "\n",
              "  <script>\n",
              "    async function quickchart(key) {\n",
              "      const quickchartButtonEl =\n",
              "        document.querySelector('#' + key + ' button');\n",
              "      quickchartButtonEl.disabled = true;  // To prevent multiple clicks.\n",
              "      quickchartButtonEl.classList.add('colab-df-spinner');\n",
              "      try {\n",
              "        const charts = await google.colab.kernel.invokeFunction(\n",
              "            'suggestCharts', [key], {});\n",
              "      } catch (error) {\n",
              "        console.error('Error during call to suggestCharts:', error);\n",
              "      }\n",
              "      quickchartButtonEl.classList.remove('colab-df-spinner');\n",
              "      quickchartButtonEl.classList.add('colab-df-quickchart-complete');\n",
              "    }\n",
              "    (() => {\n",
              "      let quickchartButtonEl =\n",
              "        document.querySelector('#df-09e04387-d316-4547-a082-7429a20d1411 button');\n",
              "      quickchartButtonEl.style.display =\n",
              "        google.colab.kernel.accessAllowed ? 'block' : 'none';\n",
              "    })();\n",
              "  </script>\n",
              "</div>\n",
              "\n",
              "    </div>\n",
              "  </div>\n"
            ],
            "application/vnd.google.colaboratory.intrinsic+json": {
              "type": "dataframe",
              "summary": "{\n  \"name\": \"path_sim_kegg\",\n  \"rows\": 14772,\n  \"fields\": [\n    {\n      \"column\": \"gene1\",\n      \"properties\": {\n        \"dtype\": \"number\",\n        \"std\": 2329869,\n        \"min\": 15,\n        \"max\": 100137049,\n        \"num_unique_values\": 1395,\n        \"samples\": [\n          257194,\n          2712,\n          54965\n        ],\n        \"semantic_type\": \"\",\n        \"description\": \"\"\n      }\n    },\n    {\n      \"column\": \"gene2\",\n      \"properties\": {\n        \"dtype\": \"number\",\n        \"std\": 4582059,\n        \"min\": 15,\n        \"max\": 100137049,\n        \"num_unique_values\": 1348,\n        \"samples\": [\n          130,\n          3251,\n          26289\n        ],\n        \"semantic_type\": \"\",\n        \"description\": \"\"\n      }\n    }\n  ]\n}"
            }
          },
          "metadata": {},
          "execution_count": 12
        }
      ],
      "source": [
        "path_sim_kegg.dropna()"
      ]
    },
    {
      "cell_type": "code",
      "execution_count": 13,
      "metadata": {
        "id": "_Bc-HpVAB51E"
      },
      "outputs": [],
      "source": [
        "path_sim_kegg['gene1']=path_sim_kegg['gene1'].apply(lambda x: gene_dict.get(x))\n",
        "path_sim_kegg['gene2']=path_sim_kegg['gene2'].apply(lambda x: gene_dict.get(x))"
      ]
    },
    {
      "cell_type": "code",
      "execution_count": 14,
      "metadata": {
        "id": "WKr4a4wxB51F"
      },
      "outputs": [],
      "source": [
        "path_sim_kegg.dropna(inplace=True)"
      ]
    },
    {
      "cell_type": "markdown",
      "metadata": {
        "id": "C2hnhCHQB51G"
      },
      "source": [
        "Load PHARMAKB [pathways](https://www.pharmgkb.org/page/COVID)"
      ]
    },
    {
      "cell_type": "code",
      "execution_count": 15,
      "metadata": {
        "id": "nLjL6DT3B51G"
      },
      "outputs": [],
      "source": [
        "pathway_ace_inhibitor=list(set(['ATP6AP2', 'MAPK1', 'AGTR2', 'ATP6AP2', 'REN', 'MAS1', 'TGFB1', 'MAPK3', 'ATP6AP2', 'MAPK3',\n",
        "                       'AGTR1','TGFB1', 'MAPK1', 'NOS3', 'BDKRB2', 'BDKRB2', 'BDKRB1', 'NR3C2', 'CYP11B2', 'AGTR1', 'CYP11B2', 'AGTR1', 'AGT', 'KNG1', 'CYP11B2', 'ACE']))\n",
        "pathway_fluv=['CYP1A2','CYP2C19','CYP3A']\n",
        "pathway_losartan=list(set(['AGTR1','CYP2C9',\"CYP3A4\",'CYP2C9',\"CYP3A4\",'CYP2C9',\"CYP3A4\", 'CYP2C9',\"CYP3A4\", 'UGT1A1',\"UGT2B7\"]))"
      ]
    },
    {
      "cell_type": "code",
      "execution_count": 16,
      "metadata": {
        "id": "tQES4LvcB51H"
      },
      "outputs": [],
      "source": [
        "path_sim=pd.concat([path_sim]+[path_sim_kegg]+[pd.DataFrame(list(combinations(pathway,2,)),columns=['gene1','gene2']) for pathway in [pathway_ace_inhibitor,pathway_fluv,pathway_losartan]])"
      ]
    },
    {
      "cell_type": "code",
      "execution_count": 17,
      "metadata": {
        "id": "tlJKM2c4B51H"
      },
      "outputs": [],
      "source": [
        "path_sim['gene1']=path_sim['gene1'].apply(lambda x: codes['gene_symbol2id'].get(x))\n",
        "path_sim['gene2']=path_sim['gene2'].apply(lambda x: codes['gene_symbol2id'].get(x))\n",
        "path_sim.dropna(inplace=True)\n",
        "path_sim['gene1']=path_sim['gene1'].apply(lambda x: 'gene_'+str(int(x)))\n",
        "path_sim['gene2']=path_sim['gene2'].apply(lambda x: 'gene_'+str(int(x)))\n",
        "path_sim.drop_duplicates(inplace=True)"
      ]
    },
    {
      "cell_type": "code",
      "execution_count": 18,
      "metadata": {
        "colab": {
          "base_uri": "https://localhost:8080/"
        },
        "id": "phhI9W5LB51H",
        "outputId": "89b9221e-9327-450b-9f5b-6e3767bcd22d"
      },
      "outputs": [
        {
          "output_type": "execute_result",
          "data": {
            "text/plain": [
              "6238"
            ]
          },
          "metadata": {},
          "execution_count": 18
        }
      ],
      "source": [
        "len(path_sim)"
      ]
    },
    {
      "cell_type": "markdown",
      "metadata": {
        "id": "OFJWhGVCB51I"
      },
      "source": [
        "## Phenotypes"
      ]
    },
    {
      "cell_type": "markdown",
      "metadata": {
        "id": "u4m-MKEGB51I"
      },
      "source": [
        "Load phenotypes from CTDbase"
      ]
    },
    {
      "cell_type": "code",
      "execution_count": 19,
      "metadata": {
        "id": "cHXMLPYnB51J"
      },
      "outputs": [],
      "source": [
        "phenotypes=pd.read_excel('/content/drive/MyDrive/Drug Repurposing/Phenotypes.xlsx')"
      ]
    },
    {
      "cell_type": "code",
      "execution_count": 20,
      "metadata": {
        "colab": {
          "base_uri": "https://localhost:8080/",
          "height": 310
        },
        "id": "tCSJ6wNUB51J",
        "outputId": "609282ba-c40f-4fe2-ab15-12b5da377025"
      },
      "outputs": [
        {
          "output_type": "execute_result",
          "data": {
            "text/plain": [
              "             Phenotype Term Name Phenotype Term ID Disease Name  \\\n",
              "0  cell population proliferation        GO:0008283     COVID-19   \n",
              "1              apoptotic process        GO:0006915     COVID-19   \n",
              "2               viral life cycle        GO:0019058     COVID-19   \n",
              "3     cellular metabolic process        GO:0044237     COVID-19   \n",
              "4                     cell death        GO:0008219     COVID-19   \n",
              "\n",
              "        Disease ID                         Chemical Inference Network  \\\n",
              "0  MESH:D000086382  Azithromycin|Betulinic Acid|camostat|cepharant...   \n",
              "1  MESH:D000086382  Acetazolamide|Azithromycin|Betulinic Acid|ceph...   \n",
              "2  MESH:D000086382  (2-tert-butoxy-1-(2-cyclohexyl-1-(1-formyl-2-(...   \n",
              "3  MESH:D000086382  Acetazolamide|Azithromycin|Betulinic Acid|cann...   \n",
              "4  MESH:D000086382  Betulinic Acid|Chloroquine|Dactinomycin|Iverme...   \n",
              "\n",
              "  Gene Inference Network  References  \n",
              "0               AGT|TYK2         197  \n",
              "1  BTK|IL1B|IL2RA|PLSCR1         347  \n",
              "2                   ACE2          73  \n",
              "3                    NaN         117  \n",
              "4                    NaN         126  "
            ],
            "text/html": [
              "\n",
              "  <div id=\"df-d492b261-1584-47a4-bdd2-1d86dcbbe586\" class=\"colab-df-container\">\n",
              "    <div>\n",
              "<style scoped>\n",
              "    .dataframe tbody tr th:only-of-type {\n",
              "        vertical-align: middle;\n",
              "    }\n",
              "\n",
              "    .dataframe tbody tr th {\n",
              "        vertical-align: top;\n",
              "    }\n",
              "\n",
              "    .dataframe thead th {\n",
              "        text-align: right;\n",
              "    }\n",
              "</style>\n",
              "<table border=\"1\" class=\"dataframe\">\n",
              "  <thead>\n",
              "    <tr style=\"text-align: right;\">\n",
              "      <th></th>\n",
              "      <th>Phenotype Term Name</th>\n",
              "      <th>Phenotype Term ID</th>\n",
              "      <th>Disease Name</th>\n",
              "      <th>Disease ID</th>\n",
              "      <th>Chemical Inference Network</th>\n",
              "      <th>Gene Inference Network</th>\n",
              "      <th>References</th>\n",
              "    </tr>\n",
              "  </thead>\n",
              "  <tbody>\n",
              "    <tr>\n",
              "      <th>0</th>\n",
              "      <td>cell population proliferation</td>\n",
              "      <td>GO:0008283</td>\n",
              "      <td>COVID-19</td>\n",
              "      <td>MESH:D000086382</td>\n",
              "      <td>Azithromycin|Betulinic Acid|camostat|cepharant...</td>\n",
              "      <td>AGT|TYK2</td>\n",
              "      <td>197</td>\n",
              "    </tr>\n",
              "    <tr>\n",
              "      <th>1</th>\n",
              "      <td>apoptotic process</td>\n",
              "      <td>GO:0006915</td>\n",
              "      <td>COVID-19</td>\n",
              "      <td>MESH:D000086382</td>\n",
              "      <td>Acetazolamide|Azithromycin|Betulinic Acid|ceph...</td>\n",
              "      <td>BTK|IL1B|IL2RA|PLSCR1</td>\n",
              "      <td>347</td>\n",
              "    </tr>\n",
              "    <tr>\n",
              "      <th>2</th>\n",
              "      <td>viral life cycle</td>\n",
              "      <td>GO:0019058</td>\n",
              "      <td>COVID-19</td>\n",
              "      <td>MESH:D000086382</td>\n",
              "      <td>(2-tert-butoxy-1-(2-cyclohexyl-1-(1-formyl-2-(...</td>\n",
              "      <td>ACE2</td>\n",
              "      <td>73</td>\n",
              "    </tr>\n",
              "    <tr>\n",
              "      <th>3</th>\n",
              "      <td>cellular metabolic process</td>\n",
              "      <td>GO:0044237</td>\n",
              "      <td>COVID-19</td>\n",
              "      <td>MESH:D000086382</td>\n",
              "      <td>Acetazolamide|Azithromycin|Betulinic Acid|cann...</td>\n",
              "      <td>NaN</td>\n",
              "      <td>117</td>\n",
              "    </tr>\n",
              "    <tr>\n",
              "      <th>4</th>\n",
              "      <td>cell death</td>\n",
              "      <td>GO:0008219</td>\n",
              "      <td>COVID-19</td>\n",
              "      <td>MESH:D000086382</td>\n",
              "      <td>Betulinic Acid|Chloroquine|Dactinomycin|Iverme...</td>\n",
              "      <td>NaN</td>\n",
              "      <td>126</td>\n",
              "    </tr>\n",
              "  </tbody>\n",
              "</table>\n",
              "</div>\n",
              "    <div class=\"colab-df-buttons\">\n",
              "\n",
              "  <div class=\"colab-df-container\">\n",
              "    <button class=\"colab-df-convert\" onclick=\"convertToInteractive('df-d492b261-1584-47a4-bdd2-1d86dcbbe586')\"\n",
              "            title=\"Convert this dataframe to an interactive table.\"\n",
              "            style=\"display:none;\">\n",
              "\n",
              "  <svg xmlns=\"http://www.w3.org/2000/svg\" height=\"24px\" viewBox=\"0 -960 960 960\">\n",
              "    <path d=\"M120-120v-720h720v720H120Zm60-500h600v-160H180v160Zm220 220h160v-160H400v160Zm0 220h160v-160H400v160ZM180-400h160v-160H180v160Zm440 0h160v-160H620v160ZM180-180h160v-160H180v160Zm440 0h160v-160H620v160Z\"/>\n",
              "  </svg>\n",
              "    </button>\n",
              "\n",
              "  <style>\n",
              "    .colab-df-container {\n",
              "      display:flex;\n",
              "      gap: 12px;\n",
              "    }\n",
              "\n",
              "    .colab-df-convert {\n",
              "      background-color: #E8F0FE;\n",
              "      border: none;\n",
              "      border-radius: 50%;\n",
              "      cursor: pointer;\n",
              "      display: none;\n",
              "      fill: #1967D2;\n",
              "      height: 32px;\n",
              "      padding: 0 0 0 0;\n",
              "      width: 32px;\n",
              "    }\n",
              "\n",
              "    .colab-df-convert:hover {\n",
              "      background-color: #E2EBFA;\n",
              "      box-shadow: 0px 1px 2px rgba(60, 64, 67, 0.3), 0px 1px 3px 1px rgba(60, 64, 67, 0.15);\n",
              "      fill: #174EA6;\n",
              "    }\n",
              "\n",
              "    .colab-df-buttons div {\n",
              "      margin-bottom: 4px;\n",
              "    }\n",
              "\n",
              "    [theme=dark] .colab-df-convert {\n",
              "      background-color: #3B4455;\n",
              "      fill: #D2E3FC;\n",
              "    }\n",
              "\n",
              "    [theme=dark] .colab-df-convert:hover {\n",
              "      background-color: #434B5C;\n",
              "      box-shadow: 0px 1px 3px 1px rgba(0, 0, 0, 0.15);\n",
              "      filter: drop-shadow(0px 1px 2px rgba(0, 0, 0, 0.3));\n",
              "      fill: #FFFFFF;\n",
              "    }\n",
              "  </style>\n",
              "\n",
              "    <script>\n",
              "      const buttonEl =\n",
              "        document.querySelector('#df-d492b261-1584-47a4-bdd2-1d86dcbbe586 button.colab-df-convert');\n",
              "      buttonEl.style.display =\n",
              "        google.colab.kernel.accessAllowed ? 'block' : 'none';\n",
              "\n",
              "      async function convertToInteractive(key) {\n",
              "        const element = document.querySelector('#df-d492b261-1584-47a4-bdd2-1d86dcbbe586');\n",
              "        const dataTable =\n",
              "          await google.colab.kernel.invokeFunction('convertToInteractive',\n",
              "                                                    [key], {});\n",
              "        if (!dataTable) return;\n",
              "\n",
              "        const docLinkHtml = 'Like what you see? Visit the ' +\n",
              "          '<a target=\"_blank\" href=https://colab.research.google.com/notebooks/data_table.ipynb>data table notebook</a>'\n",
              "          + ' to learn more about interactive tables.';\n",
              "        element.innerHTML = '';\n",
              "        dataTable['output_type'] = 'display_data';\n",
              "        await google.colab.output.renderOutput(dataTable, element);\n",
              "        const docLink = document.createElement('div');\n",
              "        docLink.innerHTML = docLinkHtml;\n",
              "        element.appendChild(docLink);\n",
              "      }\n",
              "    </script>\n",
              "  </div>\n",
              "\n",
              "\n",
              "<div id=\"df-9afa94d6-0de1-425e-8ec5-b4f249ca4973\">\n",
              "  <button class=\"colab-df-quickchart\" onclick=\"quickchart('df-9afa94d6-0de1-425e-8ec5-b4f249ca4973')\"\n",
              "            title=\"Suggest charts\"\n",
              "            style=\"display:none;\">\n",
              "\n",
              "<svg xmlns=\"http://www.w3.org/2000/svg\" height=\"24px\"viewBox=\"0 0 24 24\"\n",
              "     width=\"24px\">\n",
              "    <g>\n",
              "        <path d=\"M19 3H5c-1.1 0-2 .9-2 2v14c0 1.1.9 2 2 2h14c1.1 0 2-.9 2-2V5c0-1.1-.9-2-2-2zM9 17H7v-7h2v7zm4 0h-2V7h2v10zm4 0h-2v-4h2v4z\"/>\n",
              "    </g>\n",
              "</svg>\n",
              "  </button>\n",
              "\n",
              "<style>\n",
              "  .colab-df-quickchart {\n",
              "      --bg-color: #E8F0FE;\n",
              "      --fill-color: #1967D2;\n",
              "      --hover-bg-color: #E2EBFA;\n",
              "      --hover-fill-color: #174EA6;\n",
              "      --disabled-fill-color: #AAA;\n",
              "      --disabled-bg-color: #DDD;\n",
              "  }\n",
              "\n",
              "  [theme=dark] .colab-df-quickchart {\n",
              "      --bg-color: #3B4455;\n",
              "      --fill-color: #D2E3FC;\n",
              "      --hover-bg-color: #434B5C;\n",
              "      --hover-fill-color: #FFFFFF;\n",
              "      --disabled-bg-color: #3B4455;\n",
              "      --disabled-fill-color: #666;\n",
              "  }\n",
              "\n",
              "  .colab-df-quickchart {\n",
              "    background-color: var(--bg-color);\n",
              "    border: none;\n",
              "    border-radius: 50%;\n",
              "    cursor: pointer;\n",
              "    display: none;\n",
              "    fill: var(--fill-color);\n",
              "    height: 32px;\n",
              "    padding: 0;\n",
              "    width: 32px;\n",
              "  }\n",
              "\n",
              "  .colab-df-quickchart:hover {\n",
              "    background-color: var(--hover-bg-color);\n",
              "    box-shadow: 0 1px 2px rgba(60, 64, 67, 0.3), 0 1px 3px 1px rgba(60, 64, 67, 0.15);\n",
              "    fill: var(--button-hover-fill-color);\n",
              "  }\n",
              "\n",
              "  .colab-df-quickchart-complete:disabled,\n",
              "  .colab-df-quickchart-complete:disabled:hover {\n",
              "    background-color: var(--disabled-bg-color);\n",
              "    fill: var(--disabled-fill-color);\n",
              "    box-shadow: none;\n",
              "  }\n",
              "\n",
              "  .colab-df-spinner {\n",
              "    border: 2px solid var(--fill-color);\n",
              "    border-color: transparent;\n",
              "    border-bottom-color: var(--fill-color);\n",
              "    animation:\n",
              "      spin 1s steps(1) infinite;\n",
              "  }\n",
              "\n",
              "  @keyframes spin {\n",
              "    0% {\n",
              "      border-color: transparent;\n",
              "      border-bottom-color: var(--fill-color);\n",
              "      border-left-color: var(--fill-color);\n",
              "    }\n",
              "    20% {\n",
              "      border-color: transparent;\n",
              "      border-left-color: var(--fill-color);\n",
              "      border-top-color: var(--fill-color);\n",
              "    }\n",
              "    30% {\n",
              "      border-color: transparent;\n",
              "      border-left-color: var(--fill-color);\n",
              "      border-top-color: var(--fill-color);\n",
              "      border-right-color: var(--fill-color);\n",
              "    }\n",
              "    40% {\n",
              "      border-color: transparent;\n",
              "      border-right-color: var(--fill-color);\n",
              "      border-top-color: var(--fill-color);\n",
              "    }\n",
              "    60% {\n",
              "      border-color: transparent;\n",
              "      border-right-color: var(--fill-color);\n",
              "    }\n",
              "    80% {\n",
              "      border-color: transparent;\n",
              "      border-right-color: var(--fill-color);\n",
              "      border-bottom-color: var(--fill-color);\n",
              "    }\n",
              "    90% {\n",
              "      border-color: transparent;\n",
              "      border-bottom-color: var(--fill-color);\n",
              "    }\n",
              "  }\n",
              "</style>\n",
              "\n",
              "  <script>\n",
              "    async function quickchart(key) {\n",
              "      const quickchartButtonEl =\n",
              "        document.querySelector('#' + key + ' button');\n",
              "      quickchartButtonEl.disabled = true;  // To prevent multiple clicks.\n",
              "      quickchartButtonEl.classList.add('colab-df-spinner');\n",
              "      try {\n",
              "        const charts = await google.colab.kernel.invokeFunction(\n",
              "            'suggestCharts', [key], {});\n",
              "      } catch (error) {\n",
              "        console.error('Error during call to suggestCharts:', error);\n",
              "      }\n",
              "      quickchartButtonEl.classList.remove('colab-df-spinner');\n",
              "      quickchartButtonEl.classList.add('colab-df-quickchart-complete');\n",
              "    }\n",
              "    (() => {\n",
              "      let quickchartButtonEl =\n",
              "        document.querySelector('#df-9afa94d6-0de1-425e-8ec5-b4f249ca4973 button');\n",
              "      quickchartButtonEl.style.display =\n",
              "        google.colab.kernel.accessAllowed ? 'block' : 'none';\n",
              "    })();\n",
              "  </script>\n",
              "</div>\n",
              "\n",
              "    </div>\n",
              "  </div>\n"
            ],
            "application/vnd.google.colaboratory.intrinsic+json": {
              "type": "dataframe",
              "variable_name": "phenotypes",
              "summary": "{\n  \"name\": \"phenotypes\",\n  \"rows\": 1957,\n  \"fields\": [\n    {\n      \"column\": \"Phenotype Term Name\",\n      \"properties\": {\n        \"dtype\": \"string\",\n        \"num_unique_values\": 1957,\n        \"samples\": [\n          \"actin filament-based process\",\n          \"angiotensin maturation\",\n          \"T-helper 17 cell chemotaxis\"\n        ],\n        \"semantic_type\": \"\",\n        \"description\": \"\"\n      }\n    },\n    {\n      \"column\": \"Phenotype Term ID\",\n      \"properties\": {\n        \"dtype\": \"string\",\n        \"num_unique_values\": 1957,\n        \"samples\": [\n          \"GO:0030029\",\n          \"GO:0002003\",\n          \"GO:0035705\"\n        ],\n        \"semantic_type\": \"\",\n        \"description\": \"\"\n      }\n    },\n    {\n      \"column\": \"Disease Name\",\n      \"properties\": {\n        \"dtype\": \"category\",\n        \"num_unique_values\": 1,\n        \"samples\": [\n          \"COVID-19\"\n        ],\n        \"semantic_type\": \"\",\n        \"description\": \"\"\n      }\n    },\n    {\n      \"column\": \"Disease ID\",\n      \"properties\": {\n        \"dtype\": \"category\",\n        \"num_unique_values\": 1,\n        \"samples\": [\n          \"MESH:D000086382\"\n        ],\n        \"semantic_type\": \"\",\n        \"description\": \"\"\n      }\n    },\n    {\n      \"column\": \"Chemical Inference Network\",\n      \"properties\": {\n        \"dtype\": \"category\",\n        \"num_unique_values\": 249,\n        \"samples\": [\n          \"Choline|Emodin|Zinc\"\n        ],\n        \"semantic_type\": \"\",\n        \"description\": \"\"\n      }\n    },\n    {\n      \"column\": \"Gene Inference Network\",\n      \"properties\": {\n        \"dtype\": \"category\",\n        \"num_unique_values\": 309,\n        \"samples\": [\n          \"IL1B|IL2\"\n        ],\n        \"semantic_type\": \"\",\n        \"description\": \"\"\n      }\n    },\n    {\n      \"column\": \"References\",\n      \"properties\": {\n        \"dtype\": \"number\",\n        \"std\": 13,\n        \"min\": 1,\n        \"max\": 347,\n        \"num_unique_values\": 59,\n        \"samples\": [\n          197\n        ],\n        \"semantic_type\": \"\",\n        \"description\": \"\"\n      }\n    }\n  ]\n}"
            }
          },
          "metadata": {},
          "execution_count": 20
        }
      ],
      "source": [
        "phenotypes.head()"
      ]
    },
    {
      "cell_type": "code",
      "execution_count": 21,
      "metadata": {
        "id": "PeJAs2hhB51K"
      },
      "outputs": [],
      "source": [
        "codes['phenotype_id_to_name']={row[0]:row[1] for idx, row in phenotypes[['Phenotype Term ID','Phenotype Term Name']].drop_duplicates().iterrows()}"
      ]
    },
    {
      "cell_type": "markdown",
      "metadata": {
        "id": "Tdvq8jt_B51K"
      },
      "source": [
        "Drugs and phenotypes"
      ]
    },
    {
      "cell_type": "code",
      "execution_count": 22,
      "metadata": {
        "id": "4iWrcFm-B51K"
      },
      "outputs": [],
      "source": [
        "drug_phenotype=phenotypes['Chemical Inference Network'].dropna().apply(lambda x: x.split('|')).apply(pd.Series).merge(phenotypes['Phenotype Term ID'],left_index=True, right_index=True).melt(id_vars=['Phenotype Term ID'],value_name='drug').drop('variable', axis=1).dropna()\n",
        "drug_phenotype['drug']=drug_phenotype['drug'].apply(lambda x: x.upper())\n",
        "drug_phenotype.dropna(inplace=True)\n",
        "\n",
        "drug_phenotype['Phenotype Term ID']=drug_phenotype['Phenotype Term ID'].apply(lambda x: 'phenotype_'+x)\n",
        "drug_phenotype['drug']=drug_phenotype['drug'].apply(lambda x: 'drug_'+x)\n",
        "drug_phenotype=drug_phenotype[['drug', 'Phenotype Term ID']]\n"
      ]
    },
    {
      "cell_type": "markdown",
      "metadata": {
        "id": "P3s_2y57B51L"
      },
      "source": [
        "Genes and phenotypes"
      ]
    },
    {
      "cell_type": "code",
      "execution_count": 23,
      "metadata": {
        "id": "x2zGzn7CB51L"
      },
      "outputs": [],
      "source": [
        "gene_phenotype=phenotypes['Gene Inference Network'].dropna().apply(lambda x: x.split('|')).apply(pd.Series).merge(phenotypes['Phenotype Term ID'],left_index=True, right_index=True).melt(id_vars=['Phenotype Term ID'],value_name='gene').drop('variable', axis=1).dropna()\n",
        "gene_phenotype['Phenotype Term ID']=gene_phenotype['Phenotype Term ID'].apply(lambda x: 'phenotype_'+x)\n",
        "\n",
        "gene_phenotype['gene']=gene_phenotype['gene'].apply(lambda x: codes['gene_symbol2id'].get(x))\n",
        "gene_phenotype.dropna(inplace=True)\n",
        "gene_phenotype['gene']=gene_phenotype['gene'].apply(lambda x: 'gene_'+str(int(x)))\n",
        "gene_phenotype=gene_phenotype[['gene', 'Phenotype Term ID']]"
      ]
    },
    {
      "cell_type": "code",
      "execution_count": 24,
      "metadata": {
        "colab": {
          "base_uri": "https://localhost:8080/"
        },
        "id": "zxOVOIT3B51M",
        "outputId": "ecd79a0c-619d-4807-938d-b9c97e128a2c"
      },
      "outputs": [
        {
          "output_type": "execute_result",
          "data": {
            "text/plain": [
              "42"
            ]
          },
          "metadata": {},
          "execution_count": 24
        }
      ],
      "source": [
        "len(set(gene_drug['ChemicalName'].values).intersection(set(drug_phenotype['drug'].values)))"
      ]
    },
    {
      "cell_type": "code",
      "execution_count": 25,
      "metadata": {
        "colab": {
          "base_uri": "https://localhost:8080/"
        },
        "id": "R4zm7o3-B51M",
        "outputId": "b282617b-65ea-473f-d6e9-de964d6b694c"
      },
      "outputs": [
        {
          "output_type": "execute_result",
          "data": {
            "text/plain": [
              "51"
            ]
          },
          "metadata": {},
          "execution_count": 25
        }
      ],
      "source": [
        "len(set(drug_phenotype['drug'].values))"
      ]
    },
    {
      "cell_type": "markdown",
      "metadata": {
        "id": "-2sAkbnJB51N"
      },
      "source": [
        "## Baits and Prey"
      ]
    },
    {
      "cell_type": "markdown",
      "metadata": {
        "id": "mFqvdswTB51W"
      },
      "source": [
        "Load SARS-CoV-2 baits and host gene interaction from [Gorden et al. Nature 2020](https://www.nature.com/articles/s41586-020-2286-9#Sec36)"
      ]
    },
    {
      "cell_type": "code",
      "execution_count": 26,
      "metadata": {
        "id": "V7lnqdWOB51W"
      },
      "outputs": [],
      "source": [
        "baits_prey=pd.read_excel('/content/drive/MyDrive/Drug Repurposing/SARS-CoV-2 and human protein interactions.xlsx')"
      ]
    },
    {
      "cell_type": "code",
      "execution_count": 27,
      "metadata": {
        "id": "JAlxQGbQB51X"
      },
      "outputs": [],
      "source": [
        "baits_prey=baits_prey[['Bait', 'PreyGene']]"
      ]
    },
    {
      "cell_type": "code",
      "execution_count": 28,
      "metadata": {
        "colab": {
          "base_uri": "https://localhost:8080/"
        },
        "id": "wH-hEzs1B51X",
        "outputId": "765f0e0d-54bf-44f2-8e1f-d8646194f22f"
      },
      "outputs": [
        {
          "output_type": "execute_result",
          "data": {
            "text/plain": [
              "(27, 332)"
            ]
          },
          "metadata": {},
          "execution_count": 28
        }
      ],
      "source": [
        "baits_prey['Bait'].nunique(), baits_prey['PreyGene'].nunique()"
      ]
    },
    {
      "cell_type": "code",
      "execution_count": 29,
      "metadata": {
        "id": "UD9xyChZB51X"
      },
      "outputs": [],
      "source": [
        "baits_prey['Bait']=baits_prey['Bait'].apply(lambda x: 'bait_'+x)\n",
        "baits_prey['PreyGene']=baits_prey['PreyGene'].apply(lambda x: codes['gene_symbol2id'].get(x))\n",
        "baits_prey.dropna(inplace=True)\n",
        "baits_prey['PreyGene']=baits_prey['PreyGene'].apply(lambda x: 'gene_'+str(int(x)))"
      ]
    },
    {
      "cell_type": "code",
      "execution_count": 30,
      "metadata": {
        "colab": {
          "base_uri": "https://localhost:8080/"
        },
        "id": "3HsRJ8EzB51X",
        "outputId": "55b196ba-d46b-46c9-f278-0a3862fd234b"
      },
      "outputs": [
        {
          "output_type": "execute_result",
          "data": {
            "text/plain": [
              "(9039, 1176, 247, 38)"
            ]
          },
          "metadata": {},
          "execution_count": 30
        }
      ],
      "source": [
        "#size of drug target, pathway, host gene, phenotype-related genes\n",
        "gene_drug['GeneID'].nunique(),len(set(path_sim[['gene1','gene2']].values.ravel())),len(set(baits_prey['PreyGene'].unique())), gene_phenotype['gene'].nunique()"
      ]
    },
    {
      "cell_type": "code",
      "execution_count": 31,
      "metadata": {
        "colab": {
          "base_uri": "https://localhost:8080/"
        },
        "id": "rQOOTLxUB51Y",
        "outputId": "8fa8ffbc-f7d0-4f8b-9eb5-10b074278072"
      },
      "outputs": [
        {
          "output_type": "execute_result",
          "data": {
            "text/plain": [
              "247"
            ]
          },
          "metadata": {},
          "execution_count": 31
        }
      ],
      "source": [
        "#number of intersection between host genes and drug target\n",
        "len(set(baits_prey['PreyGene'].unique()).intersection(gene_drug['GeneID'].unique()))"
      ]
    },
    {
      "cell_type": "code",
      "execution_count": 32,
      "metadata": {
        "colab": {
          "base_uri": "https://localhost:8080/"
        },
        "id": "G3R_LJylB51Y",
        "outputId": "0a0fd224-8d99-4534-d77d-cf87f2c03db8"
      },
      "outputs": [
        {
          "output_type": "execute_result",
          "data": {
            "text/plain": [
              "1176"
            ]
          },
          "metadata": {},
          "execution_count": 32
        }
      ],
      "source": [
        "#intersection between target and pathways\n",
        "len(set(gene_drug['GeneID'].unique()).intersection(set(path_sim[['gene1','gene2']].values.ravel())))"
      ]
    },
    {
      "cell_type": "code",
      "execution_count": 33,
      "metadata": {
        "colab": {
          "base_uri": "https://localhost:8080/"
        },
        "id": "DErv8D-hB51Z",
        "outputId": "13ceafe8-aedc-4d3d-ca66-1112084f7285"
      },
      "outputs": [
        {
          "output_type": "execute_result",
          "data": {
            "text/plain": [
              "18"
            ]
          },
          "metadata": {},
          "execution_count": 33
        }
      ],
      "source": [
        "#intersection between pathways and host gene\n",
        "len(set(baits_prey['PreyGene'].unique()).intersection(set(path_sim[['gene1','gene2']].values.ravel())))"
      ]
    },
    {
      "cell_type": "code",
      "execution_count": 34,
      "metadata": {
        "colab": {
          "base_uri": "https://localhost:8080/"
        },
        "id": "shaG5wFQB51Z",
        "outputId": "a38a391e-d436-4d39-dc2a-842c242416cb"
      },
      "outputs": [
        {
          "output_type": "execute_result",
          "data": {
            "text/plain": [
              "18"
            ]
          },
          "metadata": {},
          "execution_count": 34
        }
      ],
      "source": [
        "#intersection between pathways, target genes, host gene\n",
        "len(set(baits_prey['PreyGene'].unique()).intersection(set(path_sim[['gene1','gene2']].values.ravel())).intersection(set(gene_drug['GeneID'].unique()) ))\n"
      ]
    },
    {
      "cell_type": "markdown",
      "metadata": {
        "id": "sbW0rmX9B51Z"
      },
      "source": [
        "## Item2idx mapping"
      ]
    },
    {
      "cell_type": "markdown",
      "metadata": {
        "id": "Wjb3bAT5B51a"
      },
      "source": [
        "Map all the entities (drugs, genes, phenotypes, baits) to ID"
      ]
    },
    {
      "cell_type": "code",
      "execution_count": 35,
      "metadata": {
        "id": "z_Z1u6bjB51a"
      },
      "outputs": [],
      "source": [
        "from sklearn.preprocessing import LabelEncoder"
      ]
    },
    {
      "cell_type": "code",
      "execution_count": 36,
      "metadata": {
        "id": "fY7mtngnB51a"
      },
      "outputs": [],
      "source": [
        "gene_drug.columns=['node1', 'node2']# gene, drug\n",
        "path_sim.columns=['node1', 'node2']# gene1, gene2\n",
        "baits_prey.columns=['node1','node2']#bait, preygene\n",
        "gene_phenotype.columns=['node1', 'node2'] #gene, phenotype\n",
        "drug_phenotype.columns=['node1','node2']#drug, phenotye"
      ]
    },
    {
      "cell_type": "code",
      "execution_count": 37,
      "metadata": {
        "id": "_zmrwwVkB51a"
      },
      "outputs": [],
      "source": [
        "gene_drug['type']='gene-drug'\n",
        "path_sim['type']='gene-gene'\n",
        "baits_prey['type']='bait-gene'\n",
        "gene_phenotype['type']='gene-phenotype'\n",
        "drug_phenotype['type']='drug-phenotype'\n",
        "\n",
        "edge_index=pd.concat([gene_drug, path_sim, baits_prey, gene_phenotype, drug_phenotype])\n",
        "\n",
        "edge_index['node1']=edge_index['node1'].astype(str)\n",
        "edge_index['node2']=edge_index['node2'].astype(str)"
      ]
    },
    {
      "cell_type": "markdown",
      "metadata": {
        "id": "cgvaMb6eB51b"
      },
      "source": [
        "Label Encoders"
      ]
    },
    {
      "cell_type": "code",
      "execution_count": 38,
      "metadata": {
        "colab": {
          "base_uri": "https://localhost:8080/",
          "height": 74
        },
        "id": "Pp7oPoGJB51b",
        "outputId": "5eda06b0-08f9-4bc3-84c1-792170d6260a"
      },
      "outputs": [
        {
          "output_type": "execute_result",
          "data": {
            "text/plain": [
              "LabelEncoder()"
            ],
            "text/html": [
              "<style>#sk-container-id-1 {color: black;background-color: white;}#sk-container-id-1 pre{padding: 0;}#sk-container-id-1 div.sk-toggleable {background-color: white;}#sk-container-id-1 label.sk-toggleable__label {cursor: pointer;display: block;width: 100%;margin-bottom: 0;padding: 0.3em;box-sizing: border-box;text-align: center;}#sk-container-id-1 label.sk-toggleable__label-arrow:before {content: \"▸\";float: left;margin-right: 0.25em;color: #696969;}#sk-container-id-1 label.sk-toggleable__label-arrow:hover:before {color: black;}#sk-container-id-1 div.sk-estimator:hover label.sk-toggleable__label-arrow:before {color: black;}#sk-container-id-1 div.sk-toggleable__content {max-height: 0;max-width: 0;overflow: hidden;text-align: left;background-color: #f0f8ff;}#sk-container-id-1 div.sk-toggleable__content pre {margin: 0.2em;color: black;border-radius: 0.25em;background-color: #f0f8ff;}#sk-container-id-1 input.sk-toggleable__control:checked~div.sk-toggleable__content {max-height: 200px;max-width: 100%;overflow: auto;}#sk-container-id-1 input.sk-toggleable__control:checked~label.sk-toggleable__label-arrow:before {content: \"▾\";}#sk-container-id-1 div.sk-estimator input.sk-toggleable__control:checked~label.sk-toggleable__label {background-color: #d4ebff;}#sk-container-id-1 div.sk-label input.sk-toggleable__control:checked~label.sk-toggleable__label {background-color: #d4ebff;}#sk-container-id-1 input.sk-hidden--visually {border: 0;clip: rect(1px 1px 1px 1px);clip: rect(1px, 1px, 1px, 1px);height: 1px;margin: -1px;overflow: hidden;padding: 0;position: absolute;width: 1px;}#sk-container-id-1 div.sk-estimator {font-family: monospace;background-color: #f0f8ff;border: 1px dotted black;border-radius: 0.25em;box-sizing: border-box;margin-bottom: 0.5em;}#sk-container-id-1 div.sk-estimator:hover {background-color: #d4ebff;}#sk-container-id-1 div.sk-parallel-item::after {content: \"\";width: 100%;border-bottom: 1px solid gray;flex-grow: 1;}#sk-container-id-1 div.sk-label:hover label.sk-toggleable__label {background-color: #d4ebff;}#sk-container-id-1 div.sk-serial::before {content: \"\";position: absolute;border-left: 1px solid gray;box-sizing: border-box;top: 0;bottom: 0;left: 50%;z-index: 0;}#sk-container-id-1 div.sk-serial {display: flex;flex-direction: column;align-items: center;background-color: white;padding-right: 0.2em;padding-left: 0.2em;position: relative;}#sk-container-id-1 div.sk-item {position: relative;z-index: 1;}#sk-container-id-1 div.sk-parallel {display: flex;align-items: stretch;justify-content: center;background-color: white;position: relative;}#sk-container-id-1 div.sk-item::before, #sk-container-id-1 div.sk-parallel-item::before {content: \"\";position: absolute;border-left: 1px solid gray;box-sizing: border-box;top: 0;bottom: 0;left: 50%;z-index: -1;}#sk-container-id-1 div.sk-parallel-item {display: flex;flex-direction: column;z-index: 1;position: relative;background-color: white;}#sk-container-id-1 div.sk-parallel-item:first-child::after {align-self: flex-end;width: 50%;}#sk-container-id-1 div.sk-parallel-item:last-child::after {align-self: flex-start;width: 50%;}#sk-container-id-1 div.sk-parallel-item:only-child::after {width: 0;}#sk-container-id-1 div.sk-dashed-wrapped {border: 1px dashed gray;margin: 0 0.4em 0.5em 0.4em;box-sizing: border-box;padding-bottom: 0.4em;background-color: white;}#sk-container-id-1 div.sk-label label {font-family: monospace;font-weight: bold;display: inline-block;line-height: 1.2em;}#sk-container-id-1 div.sk-label-container {text-align: center;}#sk-container-id-1 div.sk-container {/* jupyter's `normalize.less` sets `[hidden] { display: none; }` but bootstrap.min.css set `[hidden] { display: none !important; }` so we also need the `!important` here to be able to override the default hidden behavior on the sphinx rendered scikit-learn.org. See: https://github.com/scikit-learn/scikit-learn/issues/21755 */display: inline-block !important;position: relative;}#sk-container-id-1 div.sk-text-repr-fallback {display: none;}</style><div id=\"sk-container-id-1\" class=\"sk-top-container\"><div class=\"sk-text-repr-fallback\"><pre>LabelEncoder()</pre><b>In a Jupyter environment, please rerun this cell to show the HTML representation or trust the notebook. <br />On GitHub, the HTML representation is unable to render, please try loading this page with nbviewer.org.</b></div><div class=\"sk-container\" hidden><div class=\"sk-item\"><div class=\"sk-estimator sk-toggleable\"><input class=\"sk-toggleable__control sk-hidden--visually\" id=\"sk-estimator-id-1\" type=\"checkbox\" checked><label for=\"sk-estimator-id-1\" class=\"sk-toggleable__label sk-toggleable__label-arrow\">LabelEncoder</label><div class=\"sk-toggleable__content\"><pre>LabelEncoder()</pre></div></div></div></div></div>"
            ]
          },
          "metadata": {},
          "execution_count": 38
        }
      ],
      "source": [
        "le=LabelEncoder()\n",
        "le.fit(np.concatenate((edge_index['node1'], edge_index['node2'])))"
      ]
    },
    {
      "cell_type": "code",
      "execution_count": 39,
      "metadata": {
        "id": "2Ln-neZLB51b"
      },
      "outputs": [],
      "source": [
        "edge_index['node1']=le.transform(edge_index['node1'])\n",
        "edge_index['node2']=le.transform(edge_index['node2'])"
      ]
    },
    {
      "cell_type": "code",
      "execution_count": 40,
      "metadata": {
        "colab": {
          "base_uri": "https://localhost:8080/"
        },
        "id": "s3kvJBSIB51b",
        "outputId": "6667ee9e-e0d4-4c29-cbc5-5a5f88bcc740"
      },
      "outputs": [
        {
          "output_type": "execute_result",
          "data": {
            "text/plain": [
              "21306"
            ]
          },
          "metadata": {},
          "execution_count": 40
        }
      ],
      "source": [
        "len(le.classes_)"
      ]
    },
    {
      "cell_type": "markdown",
      "metadata": {
        "id": "Qt_NWZLlB51c"
      },
      "source": [
        "## Import pre-trained embedding"
      ]
    },
    {
      "cell_type": "markdown",
      "metadata": {
        "id": "esdF1vlnB51c"
      },
      "source": [
        "Obtain pre-trained entity embedding from [DRKG](https://github.com/gnn4dr/DRKG)"
      ]
    },
    {
      "cell_type": "code",
      "execution_count": 41,
      "metadata": {
        "id": "nGlAPEVsB51c"
      },
      "outputs": [],
      "source": [
        "import csv"
      ]
    },
    {
      "cell_type": "code",
      "execution_count": 42,
      "metadata": {
        "colab": {
          "base_uri": "https://localhost:8080/"
        },
        "id": "DHe5RPJRB51c",
        "outputId": "dae3622e-9986-4c17-9c02-98397f5e33ca"
      },
      "outputs": [
        {
          "output_type": "stream",
          "name": "stdout",
          "text": [
            "--2024-03-27 14:54:11--  https://dgl-data.s3-us-west-2.amazonaws.com/dataset/DRKG/drkg.tar.gz\n",
            "Resolving dgl-data.s3-us-west-2.amazonaws.com (dgl-data.s3-us-west-2.amazonaws.com)... 52.92.209.250, 52.92.200.250, 52.218.247.217, ...\n",
            "Connecting to dgl-data.s3-us-west-2.amazonaws.com (dgl-data.s3-us-west-2.amazonaws.com)|52.92.209.250|:443... connected.\n",
            "HTTP request sent, awaiting response... 200 OK\n",
            "Length: 216650245 (207M) [application/x-tar]\n",
            "Saving to: ‘drkg.tar.gz’\n",
            "\n",
            "drkg.tar.gz         100%[===================>] 206.61M  41.2MB/s    in 5.4s    \n",
            "\n",
            "2024-03-27 14:54:17 (38.3 MB/s) - ‘drkg.tar.gz’ saved [216650245/216650245]\n",
            "\n"
          ]
        }
      ],
      "source": [
        "!wget https://dgl-data.s3-us-west-2.amazonaws.com/dataset/DRKG/drkg.tar.gz"
      ]
    },
    {
      "cell_type": "code",
      "execution_count": 45,
      "metadata": {
        "id": "DC-mt_EeB51d"
      },
      "outputs": [],
      "source": [
        "#Get pretrained embedding\n",
        "entity_emb=np.load('/content/drive/MyDrive/Drug Repurposing/New folder/embed/DRKG_TransE_l2_entity.npy')\n",
        "emb_size=entity_emb.shape[1]"
      ]
    },
    {
      "cell_type": "code",
      "execution_count": 46,
      "metadata": {
        "id": "OYl_c9suB51d"
      },
      "outputs": [],
      "source": [
        "entity_idmap_file = '/content/drive/MyDrive/Drug Repurposing/New folder/embed/entities.tsv'\n",
        "relation_idmap_file = '/content/drive/MyDrive/Drug Repurposing/New folder/embed/relations.tsv'"
      ]
    },
    {
      "cell_type": "code",
      "execution_count": 47,
      "metadata": {
        "id": "S7jqzFdsB51d"
      },
      "outputs": [],
      "source": [
        "baits_drkg=['Disease::'+entity.split('_')[1] for entity  in le.classes_ if entity.split('_')[0]=='bait']\n",
        "gene_drkg = ['Gene::'+entity.split('_')[1] for entity in le.classes_ if entity.split('_')[0]=='gene']\n",
        "phenotype_drkg=['Biological Process::'+entity.split('_')[1] for entity in le.classes_ if entity.split('_')[0]=='phenotype']"
      ]
    },
    {
      "cell_type": "markdown",
      "metadata": {
        "id": "x5uJiBFiB51d"
      },
      "source": [
        "Map the DRKG's DrugBank ID to MeSH ID"
      ]
    },
    {
      "cell_type": "code",
      "execution_count": 48,
      "metadata": {
        "id": "5uq8O7LlB51e"
      },
      "outputs": [],
      "source": [
        "drugname2external=pd.concat([pd.read_csv('/content/drive/MyDrive/Drug Repurposing/alldrugbank.csv', index_col=0).rename(columns={'drugbank_id':'id'}),\n",
        "           pd.read_csv('/content/drive/MyDrive/Drug Repurposing/nondrugbank.csv', index_col=0).rename(columns={'chembl':'id'})]).groupby('drugname', as_index=False).first()\n",
        "drugname2id={row[0].upper():row[1] for _, row in drugname2external[['drugname', 'id']].iterrows()}\n",
        "drug_drkg = ['Compound::'+drugname2id.get(entity.split('_')[1],'') for entity in le.classes_ if entity.split('_')[0]=='drug']"
      ]
    },
    {
      "cell_type": "markdown",
      "metadata": {
        "id": "twIJoBuaB51e"
      },
      "source": [
        "Get drugname/disease name to entity ID mappings"
      ]
    },
    {
      "cell_type": "code",
      "execution_count": 49,
      "metadata": {
        "scrolled": true,
        "id": "5PYsY03DB51e"
      },
      "outputs": [],
      "source": [
        "\n",
        "entity_map = {}\n",
        "entity_id_map = {}\n",
        "relation_map = {}\n",
        "with open(entity_idmap_file, newline='', encoding='utf-8') as csvfile:\n",
        "    reader = csv.DictReader(csvfile, delimiter='\\t', fieldnames=['name','id'])\n",
        "    for row_val in reader:\n",
        "        entity_map[row_val['name']] = int(row_val['id'])\n",
        "        entity_id_map[int(row_val['id'])] = row_val['name']\n",
        "\n",
        "with open(relation_idmap_file, newline='', encoding='utf-8') as csvfile:\n",
        "    reader = csv.DictReader(csvfile, delimiter='\\t', fieldnames=['name','id'])\n",
        "    for row_val in reader:\n",
        "        relation_map[row_val['name']] = int(row_val['id'])\n",
        "\n",
        "# handle the ID mapping\n",
        "bait_ids = []\n",
        "gene_ids = []\n",
        "drug_ids = []\n",
        "phenotype_ids = []\n",
        "\n",
        "\n",
        "for bait in baits_drkg:\n",
        "    bait_ids.append(entity_map.get(bait))\n",
        "\n",
        "for gene in gene_drkg:\n",
        "    gene_ids.append(entity_map.get(gene))\n",
        "\n",
        "for drug in drug_drkg:\n",
        "    drug_ids.append(entity_map.get(drug))\n",
        "\n",
        "for phenotype in phenotype_drkg:\n",
        "    phenotype_ids.append(entity_map.get(phenotype))\n"
      ]
    },
    {
      "cell_type": "code",
      "execution_count": 50,
      "metadata": {
        "id": "aKqaWmcDB51e"
      },
      "outputs": [],
      "source": [
        "bait_emb=np.array([entity_emb[bait_id] if bait_id is not None else np.zeros(emb_size) for bait_id in bait_ids ])\n",
        "drug_emb=np.array([entity_emb[drug_id] if drug_id is not None else np.zeros(emb_size) for drug_id in drug_ids ])\n",
        "gene_emb=np.array([entity_emb[gene_id] if gene_id is not None else np.zeros(emb_size) for gene_id in gene_ids ])\n",
        "phenotype_emb=np.array([entity_emb[phenotype_id] if phenotype_id is not None else np.zeros(emb_size) for phenotype_id in phenotype_ids ])\n"
      ]
    },
    {
      "cell_type": "code",
      "execution_count": 51,
      "metadata": {
        "id": "fhCaG3MzB51f",
        "outputId": "adb39ff7-3705-4e0c-d6e2-3f614c89e0bc",
        "colab": {
          "base_uri": "https://localhost:8080/"
        }
      },
      "outputs": [
        {
          "output_type": "execute_result",
          "data": {
            "text/plain": [
              "(10283, 1074)"
            ]
          },
          "metadata": {},
          "execution_count": 51
        }
      ],
      "source": [
        "#How many missing in drugs?\n",
        "len(drug_ids),len([gene_id for gene_id in drug_ids if gene_id is not None])"
      ]
    },
    {
      "cell_type": "code",
      "execution_count": 52,
      "metadata": {
        "id": "r25p7aHrB51f",
        "outputId": "60ee744e-1142-4e95-97e4-345a5f0524ab",
        "colab": {
          "base_uri": "https://localhost:8080/"
        }
      },
      "outputs": [
        {
          "output_type": "execute_result",
          "data": {
            "text/plain": [
              "(9039, 8918)"
            ]
          },
          "metadata": {},
          "execution_count": 52
        }
      ],
      "source": [
        "#How many missing in genes?\n",
        "len(gene_ids),len([gene_id for gene_id in gene_ids if gene_id is not None])"
      ]
    },
    {
      "cell_type": "code",
      "execution_count": 53,
      "metadata": {
        "id": "AG3YtwfiB51f",
        "outputId": "90d6cb3a-cbee-4d45-8fff-9ae9327a4358",
        "colab": {
          "base_uri": "https://localhost:8080/"
        }
      },
      "outputs": [
        {
          "output_type": "execute_result",
          "data": {
            "text/plain": [
              "(1957, 1337)"
            ]
          },
          "metadata": {},
          "execution_count": 53
        }
      ],
      "source": [
        "#How many missing in phenotypes?\n",
        "len(phenotype_ids),len([gene_id for gene_id in phenotype_ids if gene_id is not None])"
      ]
    },
    {
      "cell_type": "markdown",
      "metadata": {
        "id": "kXcHl98nB51f"
      },
      "source": [
        "The pre-trained embedding is now serived as a node feature"
      ]
    },
    {
      "cell_type": "code",
      "execution_count": 54,
      "metadata": {
        "id": "MOJb0bm0B51g"
      },
      "outputs": [],
      "source": [
        "node_features=np.concatenate((bait_emb, drug_emb, gene_emb, phenotype_emb))"
      ]
    },
    {
      "cell_type": "code",
      "source": [
        "data_path = '/content/drive/MyDrive/Drug Repurposing/'"
      ],
      "metadata": {
        "id": "1gqkKz29hqKw"
      },
      "execution_count": 56,
      "outputs": []
    },
    {
      "cell_type": "markdown",
      "metadata": {
        "id": "jmfuQrSqB51g"
      },
      "source": [
        "## Save as pickle"
      ]
    },
    {
      "cell_type": "code",
      "execution_count": 58,
      "metadata": {
        "id": "BNA3z8C_B51g"
      },
      "outputs": [],
      "source": [
        "edge_index.to_pickle(data_path+'edge_index_'+'.pkl')\n",
        "pickle.dump(le, open(data_path+'LabelEncoder_'+'.pkl','wb'))\n",
        "pickle.dump(node_features, open(data_path+'node_feature_'+'.pkl', 'wb'))\n",
        "pickle.dump(codes, open(data_path+'codes_'+'.pkl','wb'))"
      ]
    }
  ],
  "metadata": {
    "kernelspec": {
      "display_name": "Python 3",
      "language": "python",
      "name": "python3"
    },
    "language_info": {
      "codemirror_mode": {
        "name": "ipython",
        "version": 3
      },
      "file_extension": ".py",
      "mimetype": "text/x-python",
      "name": "python",
      "nbconvert_exporter": "python",
      "pygments_lexer": "ipython3",
      "version": "3.7.6"
    },
    "colab": {
      "provenance": [],
      "include_colab_link": true
    }
  },
  "nbformat": 4,
  "nbformat_minor": 0
}